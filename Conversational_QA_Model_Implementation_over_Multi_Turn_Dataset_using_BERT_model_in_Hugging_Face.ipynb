{
  "nbformat": 4,
  "nbformat_minor": 0,
  "metadata": {
    "colab": {
      "provenance": []
    },
    "kernelspec": {
      "name": "python3",
      "display_name": "Python 3"
    },
    "language_info": {
      "name": "python"
    }
  },
  "cells": [
    {
      "cell_type": "markdown",
      "source": [
        "# Install *transformer* from **Hugging** **face**"
      ],
      "metadata": {
        "id": "uKs5kPe4l_aC"
      }
    },
    {
      "cell_type": "code",
      "execution_count": null,
      "metadata": {
        "colab": {
          "base_uri": "https://localhost:8080/"
        },
        "id": "5SAxT5YpAwTv",
        "outputId": "aa86d600-1907-4412-a82d-7ae1987d9c6b"
      },
      "outputs": [
        {
          "output_type": "stream",
          "name": "stdout",
          "text": [
            "Requirement already satisfied: transformers in /usr/local/lib/python3.11/dist-packages (4.51.3)\n",
            "Requirement already satisfied: filelock in /usr/local/lib/python3.11/dist-packages (from transformers) (3.18.0)\n",
            "Requirement already satisfied: huggingface-hub<1.0,>=0.30.0 in /usr/local/lib/python3.11/dist-packages (from transformers) (0.30.2)\n",
            "Requirement already satisfied: numpy>=1.17 in /usr/local/lib/python3.11/dist-packages (from transformers) (2.0.2)\n",
            "Requirement already satisfied: packaging>=20.0 in /usr/local/lib/python3.11/dist-packages (from transformers) (24.2)\n",
            "Requirement already satisfied: pyyaml>=5.1 in /usr/local/lib/python3.11/dist-packages (from transformers) (6.0.2)\n",
            "Requirement already satisfied: regex!=2019.12.17 in /usr/local/lib/python3.11/dist-packages (from transformers) (2024.11.6)\n",
            "Requirement already satisfied: requests in /usr/local/lib/python3.11/dist-packages (from transformers) (2.32.3)\n",
            "Requirement already satisfied: tokenizers<0.22,>=0.21 in /usr/local/lib/python3.11/dist-packages (from transformers) (0.21.1)\n",
            "Requirement already satisfied: safetensors>=0.4.3 in /usr/local/lib/python3.11/dist-packages (from transformers) (0.5.3)\n",
            "Requirement already satisfied: tqdm>=4.27 in /usr/local/lib/python3.11/dist-packages (from transformers) (4.67.1)\n",
            "Requirement already satisfied: fsspec>=2023.5.0 in /usr/local/lib/python3.11/dist-packages (from huggingface-hub<1.0,>=0.30.0->transformers) (2025.3.0)\n",
            "Requirement already satisfied: typing-extensions>=3.7.4.3 in /usr/local/lib/python3.11/dist-packages (from huggingface-hub<1.0,>=0.30.0->transformers) (4.13.2)\n",
            "Requirement already satisfied: charset-normalizer<4,>=2 in /usr/local/lib/python3.11/dist-packages (from requests->transformers) (3.4.1)\n",
            "Requirement already satisfied: idna<4,>=2.5 in /usr/local/lib/python3.11/dist-packages (from requests->transformers) (3.10)\n",
            "Requirement already satisfied: urllib3<3,>=1.21.1 in /usr/local/lib/python3.11/dist-packages (from requests->transformers) (2.4.0)\n",
            "Requirement already satisfied: certifi>=2017.4.17 in /usr/local/lib/python3.11/dist-packages (from requests->transformers) (2025.4.26)\n"
          ]
        }
      ],
      "source": [
        "pip install  transformers"
      ]
    },
    {
      "cell_type": "markdown",
      "source": [
        "# Data  Formatted **C-QA**\n",
        "\n",
        "\n"
      ],
      "metadata": {
        "id": "XaUQHQNvmdGl"
      }
    },
    {
      "cell_type": "code",
      "source": [
        "data = []\n",
        "\n",
        "context = (\n",
        "    \"The Vatican Apostolic Library (), more commonly called the Vatican Library or simply the Vat, \"\n",
        "    \"is the library of the Holy See, located in Vatican City. Formally established in 1475, although it is much older, \"\n",
        "    \"it is one of the oldest libraries in the world and contains one of the most significant collections of historical texts. \"\n",
        "    \"It has 75,000 codices from throughout history, as well as 1.1 million printed books, which include some 8,500 incunabula. \"\n",
        "    \"The Vatican Library is a research library for history, law, philosophy, science and theology. The Vatican Library is open \"\n",
        "    \"to anyone who can document their qualifications and research needs. Photocopies for private study of pages from books \"\n",
        "    \"published between 1801 and 1990 can be requested in person or by mail. In March 2014, the Vatican Library began an initial \"\n",
        "    \"four-year project of digitising its collection of manuscripts, to be made available online. The Vatican Secret Archives \"\n",
        "    \"were separated from the library at the beginning of the 17th century; they contain another 150,000 items. Scholars have \"\n",
        "    \"traditionally divided the history of the library into five periods, Pre-Lateran, Lateran, Avignon, Pre-Vatican and Vatican. \"\n",
        "    \"The Pre-Lateran period, comprising the initial days of the library, dated from the earliest days of the Church. Only a handful \"\n",
        "    \"of volumes survive from this period, though some are very significant.\"\n",
        ")\n",
        "\n",
        "questions = [\n",
        "    \"When was the Vat formally opened?\",\n",
        "    \"what is the library for?\",\n",
        "    \"for what subjects?\",\n",
        "    \"and?\",\n",
        "    \"what was started in 2014?\",\n",
        "    \"how do scholars divide the library?\",\n",
        "    \"how many?\",\n",
        "    \"what is the official name of the Vat?\",\n",
        "    \"where is it?\",\n",
        "    \"how many printed books does it contain?\",\n",
        "    \"when were the Secret Archives moved from the rest of the library?\",\n",
        "    \"how many items are in this secret collection?\",\n",
        "    \"Can anyone use this library?\",\n",
        "    \"what must be requested to view?\",\n",
        "    \"what must be requested in person or by mail?\",\n",
        "    \"of what books?\",\n",
        "    \"What is the Vat the library of?\",\n",
        "    \"How many books survived the Pre Lateran period?\",\n",
        "    \"what is the point of the project started in 2014?\",\n",
        "    \"what will this allow?\"\n",
        "]\n",
        "\n",
        "answers = [\n",
        "    \"It was formally established in 1475\",\n",
        "    \"research\",\n",
        "    \"history, and law\",\n",
        "    \"philosophy, science and theology\",\n",
        "    \"a  project\",\n",
        "    \"into periods\",\n",
        "    \"five\",\n",
        "    \"The Vatican Apostolic Library\",\n",
        "    \"in Vatican City\",\n",
        "    \"1.1 million\",\n",
        "    \"at the beginning of the 17th century;\",\n",
        "    \"150,000\",\n",
        "    \"anyone who can document their qualifications and research needs.\",\n",
        "    \"unknown\",\n",
        "    \"Photocopies\",\n",
        "    \"only books published between 1801 and 1990\",\n",
        "    \"the Holy See\",\n",
        "    \"a handful of volumes\",\n",
        "    \"digitising manuscripts\",\n",
        "    \"them to be viewed online.\"\n",
        "]\n",
        "\n",
        "data = [\n",
        "    {\"context\": context, \"question\": q, \"answer\": a}\n",
        "    for q, a in zip(questions, answers)\n",
        "]\n"
      ],
      "metadata": {
        "id": "LJ_Q_EnoBcYi"
      },
      "execution_count": null,
      "outputs": []
    },
    {
      "cell_type": "markdown",
      "source": [
        "# Load a pre-trained BERT model using **Hugging Face** Transformers to create a **question answering** system."
      ],
      "metadata": {
        "id": "KwF0Qa4wm04M"
      }
    },
    {
      "cell_type": "code",
      "source": [
        "from transformers import pipeline\n",
        "\n",
        "qa_pipeline = pipeline(\"question-answering\", model=\"bert-large-uncased-whole-word-masking-finetuned-squad\")\n"
      ],
      "metadata": {
        "colab": {
          "base_uri": "https://localhost:8080/"
        },
        "id": "vmKvsOd1k6hu",
        "outputId": "2dffca1c-40ee-4cf5-c7ae-1c3ad4247ab2"
      },
      "execution_count": null,
      "outputs": [
        {
          "output_type": "stream",
          "name": "stderr",
          "text": [
            "Some weights of the model checkpoint at bert-large-uncased-whole-word-masking-finetuned-squad were not used when initializing BertForQuestionAnswering: ['bert.pooler.dense.bias', 'bert.pooler.dense.weight']\n",
            "- This IS expected if you are initializing BertForQuestionAnswering from the checkpoint of a model trained on another task or with another architecture (e.g. initializing a BertForSequenceClassification model from a BertForPreTraining model).\n",
            "- This IS NOT expected if you are initializing BertForQuestionAnswering from the checkpoint of a model that you expect to be exactly identical (initializing a BertForSequenceClassification model from a BertForSequenceClassification model).\n",
            "Device set to use cpu\n"
          ]
        }
      ]
    },
    {
      "cell_type": "markdown",
      "source": [
        "# System answers demonstrate **without** dialog history"
      ],
      "metadata": {
        "id": "pCgwUWyrnVMg"
      }
    },
    {
      "cell_type": "code",
      "source": [
        "for entry in data:\n",
        "    result = qa_pipeline(question=entry[\"question\"], context=entry[\"context\"])\n",
        "    print(f\"Q: {entry['question']}\")\n",
        "    print(f\"A: {result['answer']}\")\n",
        "    print(f\"Expected: {entry['answer']}\")\n",
        "    print(\"-\" * 50)"
      ],
      "metadata": {
        "colab": {
          "base_uri": "https://localhost:8080/"
        },
        "id": "lKnDILyrlY1Y",
        "outputId": "29c2c99a-1b84-4679-98f1-08cb1060cea5"
      },
      "execution_count": null,
      "outputs": [
        {
          "output_type": "stream",
          "name": "stdout",
          "text": [
            "Q: When was the Vat formally opened?\n",
            "A: 1475\n",
            "Expected: It was formally established in 1475\n",
            "--------------------------------------------------\n",
            "Q: what is the library for?\n",
            "A: research library for history, law, philosophy, science and theology\n",
            "Expected: research\n",
            "--------------------------------------------------\n",
            "Q: for what subjects?\n",
            "A: history, law, philosophy, science and theology\n",
            "Expected: history, and law\n",
            "--------------------------------------------------\n",
            "Q: and?\n",
            "A: one of the oldest libraries in the world\n",
            "Expected: philosophy, science and theology\n",
            "--------------------------------------------------\n",
            "Q: what was started in 2014?\n",
            "A: digitising its collection of manuscripts\n",
            "Expected: a  project\n",
            "--------------------------------------------------\n",
            "Q: how do scholars divide the library?\n",
            "A: five periods\n",
            "Expected: into periods\n",
            "--------------------------------------------------\n",
            "Q: how many?\n",
            "A: 75,000\n",
            "Expected: five\n",
            "--------------------------------------------------\n",
            "Q: what is the official name of the Vat?\n",
            "A: The Vatican Apostolic Library\n",
            "Expected: The Vatican Apostolic Library\n",
            "--------------------------------------------------\n",
            "Q: where is it?\n",
            "A: Vatican City\n",
            "Expected: in Vatican City\n",
            "--------------------------------------------------\n",
            "Q: how many printed books does it contain?\n",
            "A: 1.1 million\n",
            "Expected: 1.1 million\n",
            "--------------------------------------------------\n",
            "Q: when were the Secret Archives moved from the rest of the library?\n",
            "A: beginning of the 17th century\n",
            "Expected: at the beginning of the 17th century;\n",
            "--------------------------------------------------\n",
            "Q: how many items are in this secret collection?\n",
            "A: 150,000\n",
            "Expected: 150,000\n",
            "--------------------------------------------------\n",
            "Q: Can anyone use this library?\n",
            "A: The Vatican Library is open to anyone who can document their qualifications and research needs\n",
            "Expected: anyone who can document their qualifications and research needs.\n",
            "--------------------------------------------------\n",
            "Q: what must be requested to view?\n",
            "A: Photocopies\n",
            "Expected: unknown\n",
            "--------------------------------------------------\n",
            "Q: what must be requested in person or by mail?\n",
            "A: Photocopies for private study of pages from books published between 1801 and 1990\n",
            "Expected: Photocopies\n",
            "--------------------------------------------------\n",
            "Q: of what books?\n",
            "A: 1.1 million printed books\n",
            "Expected: only books published between 1801 and 1990\n",
            "--------------------------------------------------\n",
            "Q: What is the Vat the library of?\n",
            "A: the Holy See\n",
            "Expected: the Holy See\n",
            "--------------------------------------------------\n",
            "Q: How many books survived the Pre Lateran period?\n",
            "A: Only a handful of volumes\n",
            "Expected: a handful of volumes\n",
            "--------------------------------------------------\n",
            "Q: what is the point of the project started in 2014?\n",
            "A: digitising its collection of manuscripts\n",
            "Expected: digitising manuscripts\n",
            "--------------------------------------------------\n",
            "Q: what will this allow?\n",
            "A: The Vatican Library is open to anyone who can document their qualifications and research needs\n",
            "Expected: them to be viewed online.\n",
            "--------------------------------------------------\n"
          ]
        }
      ]
    },
    {
      "cell_type": "markdown",
      "source": [
        "# System answers demonstrate **with** dialog history"
      ],
      "metadata": {
        "id": "tPQmHY_Cn5FU"
      }
    },
    {
      "cell_type": "code",
      "source": [
        "dialog_history = \"\"\n",
        "\n",
        "for entry in data:\n",
        "    dialog_history += f\"Question: {entry['question']} Answer: {entry['answer']}\\n\"\n",
        "\n",
        "    context_with_history = context + \"\\n\" + dialog_history\n",
        "\n",
        "    result = qa_pipeline(question=entry[\"question\"], context=context_with_history)\n",
        "\n",
        "    print(f\"Q: {entry['question']}\")\n",
        "    print(f\"A: {result['answer']}\")\n",
        "    print(f\"Expected: {entry['answer']}\")\n",
        "    print(\"-\" * 50)"
      ],
      "metadata": {
        "colab": {
          "base_uri": "https://localhost:8080/"
        },
        "id": "pmV3YmJ0lraK",
        "outputId": "b9bf4f29-89ae-4b1e-b1c5-1db86b67e723"
      },
      "execution_count": null,
      "outputs": [
        {
          "output_type": "stream",
          "name": "stdout",
          "text": [
            "Q: When was the Vat formally opened?\n",
            "A: 1475\n",
            "Expected: It was formally established in 1475\n",
            "--------------------------------------------------\n",
            "Q: what is the library for?\n",
            "A: research\n",
            "Expected: research\n",
            "--------------------------------------------------\n",
            "Q: for what subjects?\n",
            "A: history, law, philosophy, science and theology\n",
            "Expected: history, and law\n",
            "--------------------------------------------------\n",
            "Q: and?\n",
            "A: philosophy, science and theology\n",
            "Expected: philosophy, science and theology\n",
            "--------------------------------------------------\n",
            "Q: what was started in 2014?\n",
            "A: history, law, philosophy, science and theology\n",
            "Expected: a  project\n",
            "--------------------------------------------------\n",
            "Q: how do scholars divide the library?\n",
            "A: into periods\n",
            "Expected: into periods\n",
            "--------------------------------------------------\n",
            "Q: how many?\n",
            "A: five\n",
            "Expected: five\n",
            "--------------------------------------------------\n",
            "Q: what is the official name of the Vat?\n",
            "A: The Vatican Apostolic Library\n",
            "Expected: The Vatican Apostolic Library\n",
            "--------------------------------------------------\n",
            "Q: where is it?\n",
            "A: Vatican City\n",
            "Expected: in Vatican City\n",
            "--------------------------------------------------\n",
            "Q: how many printed books does it contain?\n",
            "A: 1.1 million\n",
            "Expected: 1.1 million\n",
            "--------------------------------------------------\n",
            "Q: when were the Secret Archives moved from the rest of the library?\n",
            "A: beginning of the 17th century\n",
            "Expected: at the beginning of the 17th century;\n",
            "--------------------------------------------------\n",
            "Q: how many items are in this secret collection?\n",
            "A: 150,000\n",
            "Expected: 150,000\n",
            "--------------------------------------------------\n",
            "Q: Can anyone use this library?\n",
            "A: The Vatican Library is open to anyone who can document their qualifications and research needs\n",
            "Expected: anyone who can document their qualifications and research needs.\n",
            "--------------------------------------------------\n",
            "Q: what must be requested to view?\n",
            "A: Photocopies\n",
            "Expected: unknown\n",
            "--------------------------------------------------\n",
            "Q: what must be requested in person or by mail?\n",
            "A: Photocopies\n",
            "Expected: Photocopies\n",
            "--------------------------------------------------\n",
            "Q: of what books?\n",
            "A: 1.1 million printed books\n",
            "Expected: only books published between 1801 and 1990\n",
            "--------------------------------------------------\n",
            "Q: What is the Vat the library of?\n",
            "A: the Holy See\n",
            "Expected: the Holy See\n",
            "--------------------------------------------------\n",
            "Q: How many books survived the Pre Lateran period?\n",
            "A: Only a handful of volumes\n",
            "Expected: a handful of volumes\n",
            "--------------------------------------------------\n",
            "Q: what is the point of the project started in 2014?\n",
            "A: digitising manuscripts\n",
            "Expected: digitising manuscripts\n",
            "--------------------------------------------------\n",
            "Q: what will this allow?\n",
            "A: them to be viewed online\n",
            "Expected: them to be viewed online.\n",
            "--------------------------------------------------\n"
          ]
        }
      ]
    }
  ]
}